{
 "cells": [
  {
   "cell_type": "code",
   "execution_count": 1,
   "metadata": {},
   "outputs": [
    {
     "name": "stdout",
     "output_type": "stream",
     "text": [
      "56.00\n"
     ]
    }
   ],
   "source": [
    "# 1.  finding percentage:\n",
    "\n",
    "if __name__ == '__main__':\n",
    "    n = int(input())\n",
    "    student_marks = {}\n",
    "\n",
    "    for _ in range(n):\n",
    "        name, *line = input().split()\n",
    "        scores = list(map(float, line))\n",
    "        student_marks[name] = scores\n",
    "\n",
    "    query_name = input()\n",
    "\n",
    "    list1 = list(student_marks[query_name]) \n",
    "    addition = sum(list1)\n",
    "    result = addition/len(list1)\n",
    "\n",
    "    print('%.2f'% result)"
   ]
  },
  {
   "cell_type": "code",
   "execution_count": 2,
   "metadata": {},
   "outputs": [
    {
     "name": "stdout",
     "output_type": "stream",
     "text": [
      "this-is-a-string\n"
     ]
    }
   ],
   "source": [
    "# 2. In Python, a string can be split on a delimiter.\n",
    "\n",
    "def split_and_join(line):\n",
    "    a = line.split(\" \")\n",
    "\n",
    "    b = \"-\".join(a)\n",
    "\n",
    "    return(b)\n",
    "\n",
    "if __name__ == '__main__':\n",
    "    line = input()\n",
    "    result = split_and_join(line)\n",
    "    print(result)"
   ]
  },
  {
   "cell_type": "code",
   "execution_count": 3,
   "metadata": {},
   "outputs": [
    {
     "name": "stdout",
     "output_type": "stream",
     "text": [
      "5\n"
     ]
    }
   ],
   "source": [
    "# 3.interaction set.\n",
    "_ = int(input())\n",
    "set_A = set(map(int, input().split()))\n",
    "\n",
    "_ = int(input())\n",
    "set_B = set(map(int, input().split()))\n",
    "\n",
    "print(len(set_A & set_B))"
   ]
  },
  {
   "cell_type": "code",
   "execution_count": 4,
   "metadata": {},
   "outputs": [
    {
     "name": "stdout",
     "output_type": "stream",
     "text": [
      "5\n"
     ]
    }
   ],
   "source": [
    "# 4. find the runner-up score.\n",
    "\n",
    "if __name__==\"__main__\":\n",
    "    n = int(input())\n",
    "    arr = map(int, input().split())\n",
    "    arr = list(set(list(arr)))\n",
    "    ar = len(arr)\n",
    "    arr = sorted(arr)\n",
    "    print(arr[ar-2])"
   ]
  },
  {
   "cell_type": "code",
   "execution_count": 5,
   "metadata": {},
   "outputs": [
    {
     "name": "stdout",
     "output_type": "stream",
     "text": [
      "hACKERrANK.COM PRESENTS \"PYTHONIST 2\".\n"
     ]
    }
   ],
   "source": [
    "# 5. lower case to upper case.\n",
    "\n",
    "def swap_case(s):\n",
    "    num = \"\"\n",
    "    for j in s:\n",
    "        if j.isupper() == True:\n",
    "            num+=(j.lower())\n",
    "        else:\n",
    "            num+=(j.upper())\n",
    "    return num\n",
    "if __name__ == '__main__':\n",
    "    s = input()\n",
    "    result = swap_case(s)\n",
    "    print(result)"
   ]
  },
  {
   "cell_type": "code",
   "execution_count": 6,
   "metadata": {},
   "outputs": [
    {
     "name": "stdout",
     "output_type": "stream",
     "text": [
      "5\n",
      "1\n",
      "6\n"
     ]
    }
   ],
   "source": [
    "# 6.arithmetic operators.\n",
    "\n",
    "if __name__ == '__main__':\n",
    "    a = int(input())\n",
    "    b = int(input())\n",
    "    print(a + b)\n",
    "    print(a - b)\n",
    "    print(a * b)"
   ]
  },
  {
   "cell_type": "code",
   "execution_count": 7,
   "metadata": {},
   "outputs": [
    {
     "name": "stdout",
     "output_type": "stream",
     "text": [
      "1\n",
      "1.3333333333333333\n"
     ]
    }
   ],
   "source": [
    "# 7.float division.\n",
    "\n",
    "if __name__ == '__main__':\n",
    "      \n",
    "   a = int(input())\n",
    "   b = int(input())\n",
    "   res_1=int(a//b)\n",
    "   res_2=float(a/b)\n",
    "   print(res_1)\n",
    "   print(res_2)\n"
   ]
  },
  {
   "cell_type": "code",
   "execution_count": 10,
   "metadata": {},
   "outputs": [
    {
     "name": "stdout",
     "output_type": "stream",
     "text": [
      "Weird\n"
     ]
    }
   ],
   "source": [
    "# 8.python if else.\n",
    "\n",
    "import math\n",
    "import os\n",
    "import random\n",
    "import re\n",
    "import sys\n",
    "\n",
    "n = int(input())\n",
    "if n % 2 == 1:\n",
    "    print(\"Weird\")\n",
    "elif n % 2 == 0 and 2 <= n <= 5:\n",
    "    print(\"Not Weird\")\n",
    "elif n % 2 == 0 and 6 <= n <= 20:\n",
    "    print(\"Weird\")\n",
    "else:\n",
    "    print(\"Not Weird\")  "
   ]
  },
  {
   "cell_type": "code",
   "execution_count": 11,
   "metadata": {},
   "outputs": [
    {
     "name": "stdout",
     "output_type": "stream",
     "text": [
      "Berry\n",
      "Harry\n"
     ]
    }
   ],
   "source": [
    "# 9.nested list.\n",
    "\n",
    "if __name__ == '__main__':\n",
    "    result = []\n",
    "    for _ in range(int(input())):\n",
    "        name = input()\n",
    "        score = float(input())\n",
    "        result.append([name, score])\n",
    "scored = sorted(set([score for name, score in result]))[1]\n",
    "print('\\n'.join(sorted([name for name, score in result if score == scored])))\n"
   ]
  },
  {
   "cell_type": "code",
   "execution_count": 12,
   "metadata": {},
   "outputs": [
    {
     "name": "stdout",
     "output_type": "stream",
     "text": [
      "0\n",
      "1\n",
      "4\n",
      "9\n",
      "16\n"
     ]
    }
   ],
   "source": [
    "# 10. loops.\n",
    "\n",
    "if __name__ == '__main__':\n",
    "    n = int(input())\n",
    "    for i in range(0, n):\n",
    "        print(i ** 2)"
   ]
  },
  {
   "cell_type": "code",
   "execution_count": 13,
   "metadata": {},
   "outputs": [
    {
     "name": "stdout",
     "output_type": "stream",
     "text": [
      "False\n"
     ]
    }
   ],
   "source": [
    "# 11.write a function.\n",
    "\n",
    "def is_leap(year):\n",
    "    \n",
    "    leap = False\n",
    "    \n",
    "    if ((year % 400 == 0) and (year % 100 == 0)) | ((year % 4 ==0) and (year % 100 != 0)):\n",
    "        \n",
    "        leap = True\n",
    "    return leap\n",
    "year = int(input())\n",
    "print(is_leap(year))"
   ]
  },
  {
   "cell_type": "code",
   "execution_count": 15,
   "metadata": {},
   "outputs": [
    {
     "name": "stdout",
     "output_type": "stream",
     "text": [
      "2\n"
     ]
    }
   ],
   "source": [
    "# 12. find a string.\n",
    "\n",
    "def count_substring(string, sub_string):\n",
    "    count=0\n",
    "    for i in range(0, len(string)-len(sub_string)+1):\n",
    "        if string[i:len(string)].startswith(sub_string):\n",
    "            flag=1\n",
    "            count += 1\n",
    "            \n",
    "    return count\n",
    "if __name__ == '__main__':\n",
    "    string = input().strip()\n",
    "    sub_string = input().strip()\n",
    "    \n",
    "    count = count_substring(string, sub_string)\n",
    "    print(count)\n"
   ]
  },
  {
   "cell_type": "code",
   "execution_count": 16,
   "metadata": {},
   "outputs": [
    {
     "name": "stdout",
     "output_type": "stream",
     "text": [
      "[6, 5, 10]\n",
      "[1, 5, 9, 10]\n",
      "[9, 5, 1]\n"
     ]
    }
   ],
   "source": [
    "# 13.list hack.\n",
    "\n",
    "if __name__ == '__main__':\n",
    "    N = int(input())\n",
    "    L=[]\n",
    "    for i in range(0,N):\n",
    "        command=input().split()\n",
    "        if command[0] == \"insert\":\n",
    "            L.insert(int(command[1]),int(command[2]))\n",
    "        elif command[0] == \"append\":\n",
    "            L.append(int(command[1]))\n",
    "        elif command[0] == \"pop\":\n",
    "            L.pop()\n",
    "        elif command[0] == \"print\":\n",
    "            print(L)\n",
    "        elif command[0] == \"remove\":\n",
    "            L.remove(int(command[1]))\n",
    "        elif command[0] == \"sort\":\n",
    "            L.sort()\n",
    "        else:\n",
    "            L.reverse()"
   ]
  }
 ],
 "metadata": {
  "kernelspec": {
   "display_name": "Python 3",
   "language": "python",
   "name": "python3"
  },
  "language_info": {
   "codemirror_mode": {
    "name": "ipython",
    "version": 3
   },
   "file_extension": ".py",
   "mimetype": "text/x-python",
   "name": "python",
   "nbconvert_exporter": "python",
   "pygments_lexer": "ipython3",
   "version": "3.12.1"
  }
 },
 "nbformat": 4,
 "nbformat_minor": 2
}
